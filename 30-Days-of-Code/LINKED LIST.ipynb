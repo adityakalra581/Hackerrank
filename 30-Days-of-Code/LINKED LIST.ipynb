{
 "cells": [
  {
   "cell_type": "markdown",
   "metadata": {},
   "source": [
    "### DAY 15: LINKED LIST"
   ]
  },
  {
   "cell_type": "markdown",
   "metadata": {},
   "source": [
    "- PROBLEM LINK: https://www.hackerrank.com/challenges/30-linked-list/problem"
   ]
  },
  {
   "cell_type": "markdown",
   "metadata": {},
   "source": [
    "![](LinkedListExplanation.png)"
   ]
  },
  {
   "cell_type": "code",
   "execution_count": 2,
   "metadata": {},
   "outputs": [
    {
     "name": "stdout",
     "output_type": "stream",
     "text": [
      "5\n",
      "4\n",
      "4\n",
      "7\n",
      "9\n",
      "2\n",
      "4 4 7 9 2 "
     ]
    }
   ],
   "source": [
    "class Node:\n",
    "    def __init__(self,data):\n",
    "        self.data=data\n",
    "        self.next=None\n",
    "class solution:\n",
    "    def display(self,head):\n",
    "        current=head\n",
    "        while current:\n",
    "            print(current.data,end=' ')\n",
    "            current=current.next\n",
    "            \n",
    "## Solution Begins            \n",
    "\n",
    "    def insert(self,head,data):\n",
    "        newNode=Node(data)\n",
    "        if not head:\n",
    "            return newNode\n",
    "        current=head\n",
    "        while current.next:\n",
    "            current=current.next\n",
    "        current.next=newNode    \n",
    "        return head\n",
    "\n",
    "## Solution Ends\n",
    "\n",
    "t=int(input())\n",
    "mylist=solution()\n",
    "head=None\n",
    "for i in range(t):\n",
    "    data=int(input())\n",
    "    head=mylist.insert(head,data)\n",
    "mylist.display(head)    \n",
    "    "
   ]
  },
  {
   "cell_type": "markdown",
   "metadata": {},
   "source": [
    "### DAY 24 LINKED LIST PART-2\n",
    "\n",
    "- Problem Link: https://www.hackerrank.com/challenges/30-linked-list-deletion/problem"
   ]
  },
  {
   "cell_type": "markdown",
   "metadata": {},
   "source": [
    "- The basic motive here is to remove duplicates from a linked list.\n",
    "- The linked list is in Ascending order.\n",
    "- Quite easy to check as all the duplicate and the original will be placed together.\n"
   ]
  },
  {
   "cell_type": "code",
   "execution_count": 1,
   "metadata": {},
   "outputs": [
    {
     "name": "stdout",
     "output_type": "stream",
     "text": [
      "5 \n",
      "2\n",
      "3\n",
      "4\n",
      "4\n",
      "6\n",
      "2 3 4 6 "
     ]
    }
   ],
   "source": [
    "class Node:\n",
    "    def __init__(self,data):\n",
    "        self.data = data\n",
    "        self.next = None \n",
    "class Solution: \n",
    "    def insert(self,head,data):\n",
    "            p = Node(data)           \n",
    "            if head==None:\n",
    "                head=p\n",
    "            elif head.next==None:\n",
    "                head.next=p\n",
    "            else:\n",
    "                start=head\n",
    "                while(start.next!=None):\n",
    "                    start=start.next\n",
    "                start.next=p\n",
    "            return head  \n",
    "    def display(self,head):\n",
    "        current = head\n",
    "        while current:\n",
    "            print(current.data,end=' ')\n",
    "            current = current.next\n",
    "\n",
    "    def removeDuplicates(self,head):\n",
    "        #Write your code here\n",
    "        if not head:  #If there is no head present: means there is no list.\n",
    "            return None #return nothing.\n",
    "        current=head    # Assign current=head\n",
    "        while current.next:   # Check whether there is next element to the current.\n",
    "            if current.next.data==current.data: # If both of them are equal. \n",
    "                current.next=current.next.next #assign next to next element to next.\n",
    "            else:\n",
    "                current=current.next  # Else keep on moving.\n",
    "        return head\n",
    "\n",
    "\n",
    "\n",
    "mylist= Solution()\n",
    "T=int(input())\n",
    "head=None\n",
    "for i in range(T):\n",
    "    data=int(input())\n",
    "    head=mylist.insert(head,data)    \n",
    "head=mylist.removeDuplicates(head)\n",
    "mylist.display(head); "
   ]
  },
  {
   "cell_type": "markdown",
   "metadata": {},
   "source": [
    "#### Input Format:\n",
    "\n",
    "- The first line contains an integer,n, the number of nodes to be inserted.\n",
    "- The n subsequent lines each contain an integer describing the data value of a node being inserted at the list's tail.\n",
    "\n"
   ]
  },
  {
   "cell_type": "code",
   "execution_count": null,
   "metadata": {},
   "outputs": [],
   "source": []
  }
 ],
 "metadata": {
  "kernelspec": {
   "display_name": "Python 3",
   "language": "python",
   "name": "python3"
  },
  "language_info": {
   "codemirror_mode": {
    "name": "ipython",
    "version": 3
   },
   "file_extension": ".py",
   "mimetype": "text/x-python",
   "name": "python",
   "nbconvert_exporter": "python",
   "pygments_lexer": "ipython3",
   "version": "3.7.3"
  }
 },
 "nbformat": 4,
 "nbformat_minor": 2
}
