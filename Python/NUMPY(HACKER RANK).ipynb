{
 "cells": [
  {
   "cell_type": "markdown",
   "metadata": {},
   "source": [
    "### Arrays\n",
    "Printing the array in reverse order"
   ]
  },
  {
   "cell_type": "code",
   "execution_count": 1,
   "metadata": {},
   "outputs": [
    {
     "name": "stdout",
     "output_type": "stream",
     "text": [
      "5 7 9 1 3\n",
      "[3. 1. 9. 7. 5.]\n"
     ]
    }
   ],
   "source": [
    "import numpy\n",
    "\n",
    "def arrays(arr):\n",
    "    arra=numpy.array(arr,float)\n",
    "    arra=arra[::-1]\n",
    "    return arra\n",
    "    # complete this function\n",
    "    # use numpy.array\n",
    "\n",
    "arr = input().strip().split(' ')\n",
    "result = arrays(arr)\n",
    "print(result)"
   ]
  },
  {
   "cell_type": "markdown",
   "metadata": {},
   "source": [
    "### Reshaping The Array\n",
    "Taking 9 space separated integer inputs and converting it into a 3X3 Matrix."
   ]
  },
  {
   "cell_type": "code",
   "execution_count": 19,
   "metadata": {},
   "outputs": [
    {
     "name": "stdout",
     "output_type": "stream",
     "text": [
      "1 2 3 6 5 4 7 8 9\n",
      "[1 2 3 6 5 4 7 8 9]\n",
      "[[1 2 3]\n",
      " [6 5 4]\n",
      " [7 8 9]]\n"
     ]
    }
   ],
   "source": [
    "import numpy\n",
    "\n",
    "a=list(map(int, input().split()))\n",
    "b=numpy.array(a,int)\n",
    "#print(b)\n",
    "\n",
    "# FIRST WAY\n",
    "# USING:       numpy.reshape(array_name,(required,shape))\n",
    "\n",
    "#print(numpy.reshape(b,(3,3)))     # \n",
    "\n",
    "# Another way of changing the shape\n",
    "# using:      array_name.shape=(requred,shape)\n",
    "\n",
    "b.shape=(3,3)\n",
    "print(b)"
   ]
  },
  {
   "cell_type": "markdown",
   "metadata": {},
   "source": [
    "### Transpose and Flattened(Medium level)\n",
    "\n",
    "\n",
    "$ TASKS $\n",
    "- 1. Taking Rows(n) and columns(m) input\n",
    "- 2. then taking the elements input in 'n' rows each 'm' column wide.\n",
    "- 3. Transposing the matrix\n",
    "- 4. Flattened the matrix  "
   ]
  },
  {
   "cell_type": "code",
   "execution_count": 2,
   "metadata": {},
   "outputs": [
    {
     "name": "stdout",
     "output_type": "stream",
     "text": [
      "2 2\n",
      "1 2\n",
      "4 5\n",
      "[[1 4]\n",
      " [2 5]]\n",
      "[1 2 4 5]\n"
     ]
    }
   ],
   "source": [
    "import numpy\n",
    "n,m=map(int,input().split())\n",
    "#print(n)\n",
    "#print(m)\n",
    "h=[]\n",
    "for i in range(n):\n",
    "    r=list(map(int,input().split()))\n",
    "    h.append(r)\n",
    "\n",
    "#print(h)\n",
    "l=numpy.array(h,int)\n",
    "#print(l)\n",
    "#print(l.shape)   # nxm shape\n",
    "\n",
    "# First getting a transpose.\n",
    "print(numpy.transpose(l))\n",
    "# or we can use \n",
    "# l.shape=(m,n)\n",
    "\n",
    "# Flattened(converts multidimensional matrix into one-d)\n",
    "print(l.flatten())\n",
    "\n"
   ]
  },
  {
   "cell_type": "code",
   "execution_count": null,
   "metadata": {},
   "outputs": [],
   "source": []
  }
 ],
 "metadata": {
  "kernelspec": {
   "display_name": "Python 3",
   "language": "python",
   "name": "python3"
  },
  "language_info": {
   "codemirror_mode": {
    "name": "ipython",
    "version": 3
   },
   "file_extension": ".py",
   "mimetype": "text/x-python",
   "name": "python",
   "nbconvert_exporter": "python",
   "pygments_lexer": "ipython3",
   "version": "3.7.3"
  }
 },
 "nbformat": 4,
 "nbformat_minor": 2
}
