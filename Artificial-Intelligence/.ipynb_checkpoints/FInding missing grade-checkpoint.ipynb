{
 "cells": [
  {
   "cell_type": "code",
   "execution_count": null,
   "metadata": {},
   "outputs": [
    {
     "name": "stderr",
     "output_type": "stream",
     "text": [
      "C:\\Users\\aditya\\Anaconda3\\lib\\site-packages\\sklearn\\ensemble\\forest.py:246: FutureWarning: The default value of n_estimators will change from 10 in version 0.20 to 100 in 0.22.\n",
      "  \"10 in version 0.20 to 100 in 0.22.\", FutureWarning)\n"
     ]
    }
   ],
   "source": [
    "import json\n",
    "import pandas as pd\n",
    "from sklearn.svm import SVC\n",
    "from sklearn.linear_model import SGDClassifier\n",
    "from sklearn.tree import DecisionTreeClassifier\n",
    "from sklearn.ensemble import ExtraTreesClassifier\n",
    "from sklearn.feature_selection import VarianceThreshold\n",
    "\n",
    "subj_list = ['Physics', 'Chemistry', 'ComputerScience', 'Hindi', 'Biology', 'PhysicalEducation', \n",
    "             'Economics', 'Accountancy', 'BusinessStudies', 'English', 'Mathematics']\n",
    "\n",
    "# prepare training dataset\n",
    "\n",
    "train = []\n",
    "with open('training.json') as file:\n",
    "    _ = file.readline()\n",
    "    for line in file.readlines():\n",
    "        feat = json.loads(line)\n",
    "        del feat['serial']\n",
    "        for sub in subj_list:\n",
    "            if sub not in feat:\n",
    "                feat[sub] = 0\n",
    "        train.append(feat)\n",
    "    \n",
    "train_x = pd.DataFrame(train, columns=subj_list)\n",
    "train_y = train_x['Mathematics']\n",
    "del train_x['Mathematics']\n",
    "\n",
    "train_x = train_x.values\n",
    "train_y = train_y.values\n",
    "\n",
    "\n",
    "# feature selection\n",
    "selector = VarianceThreshold()\n",
    "train_x = selector.fit_transform(train_x)\n",
    "\n",
    "# build Model\n",
    "#cls = DecisionTreeClassifier(criterion='gini').fit(train_x.values, train_y.values)\n",
    "#cls = SVC().fit(train_x.values, train_y.values)\n",
    "#cls = SGDClassifier(loss=\"hinge\", penalty=\"l2\", shuffle=True).fit(train_x.values, train_y.values)\n",
    "cls = ExtraTreesClassifier().fit(train_x, train_y)\n",
    "\n",
    "n = int(input())\n",
    "data = []\n",
    "\n",
    "for i in range(n):\n",
    "    s = input()\n",
    "    feat = json.loads(s)\n",
    "    del feat['serial']\n",
    "    for sub in subj_list:\n",
    "        if sub not in feat:\n",
    "            feat[sub]= 0\n",
    "    data.append(feat)\n",
    "\n",
    "test_x = pd.DataFrame(data,columns=subj_list[:-1]).values\n",
    "\n",
    "test_x = selector.fit_transform(test_x)\n",
    "\n",
    "pred_y = cls.predict(test_x)\n",
    "for pred in pred_y:\n",
    "    print(pred)"
   ]
  },
  {
   "cell_type": "code",
   "execution_count": null,
   "metadata": {},
   "outputs": [],
   "source": []
  }
 ],
 "metadata": {
  "kernelspec": {
   "display_name": "Python 3",
   "language": "python",
   "name": "python3"
  },
  "language_info": {
   "codemirror_mode": {
    "name": "ipython",
    "version": 3
   },
   "file_extension": ".py",
   "mimetype": "text/x-python",
   "name": "python",
   "nbconvert_exporter": "python",
   "pygments_lexer": "ipython3",
   "version": "3.7.3"
  }
 },
 "nbformat": 4,
 "nbformat_minor": 2
}
