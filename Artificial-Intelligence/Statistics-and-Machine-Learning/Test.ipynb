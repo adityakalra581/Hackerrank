{
 "cells": [
  {
   "cell_type": "markdown",
   "metadata": {},
   "source": [
    "### Correlation and Regression Lines - A Quick Recap #1\n",
    "\n",
    "- Reference: https://youtu.be/vv-l0vOayKM "
   ]
  },
  {
   "cell_type": "code",
   "execution_count": 2,
   "metadata": {},
   "outputs": [
    {
     "name": "stdout",
     "output_type": "stream",
     "text": [
      "Pearsons correlation: 0.145\n"
     ]
    }
   ],
   "source": [
    "import numpy as np\n",
    "from scipy.stats import pearsonr\n",
    "\n",
    "\n",
    "l1=[15,12,8,8,7,7,7,6,5,3]\n",
    "\n",
    "l2=[10,25,17,11,13,17,20,13,9,15]\n",
    "\n",
    "corr, _ = pearsonr(l1, l2)\n",
    "print('Pearsons correlation: %.3f' % corr)"
   ]
  },
  {
   "cell_type": "markdown",
   "metadata": {},
   "source": [
    "- Evidently the hackerrank solution does not want us to use the libraries. "
   ]
  },
  {
   "cell_type": "code",
   "execution_count": 18,
   "metadata": {},
   "outputs": [
    {
     "name": "stdout",
     "output_type": "stream",
     "text": [
      "0.14499815458068516\n",
      "0.145\n"
     ]
    }
   ],
   "source": [
    "# Enter your code here. Read input from STDIN. Print output to STDOUT\n",
    "# import numpy as np\n",
    "# from scipy.stats import pearsonr\n",
    "\n",
    "\n",
    "import math\n",
    "\n",
    "l1=[15,12,8,8,7,7,7,6,5,3]\n",
    "\n",
    "l2=[10,25,17,11,13,17,20,13,9,15]\n",
    "\n",
    "# corr, _ = pearsonr(l1, l2)\n",
    "# print('Pearsons correlation: %.3f' % corr)\n",
    "\n",
    "## Formula of Pearson Correlation coefficient:\n",
    "## r = Summation(x,y)/(summ(x^2)*summ(y^2))^0.5\n",
    "## Here x=l1-mean(l1) and y=l2-mean(l2)\n",
    "\n",
    "\n",
    "## Mean of column 1 and 2:\n",
    "m1 = sum(l1)/len(l1)\n",
    "m2 = sum(l2)/len(l2)\n",
    "\n",
    "# print(m1)      # = 7.8\n",
    "# print(m2)      # = 15\n",
    "\n",
    "x=[ i - m1 for i in l1 ]\n",
    "y = [ j - m2 for j in l2 ]\n",
    "\n",
    "#print(x)\n",
    "#print(y)\n",
    "\n",
    "xy = [x[i]*y[i] for i in range(len(l1))]\n",
    "\n",
    "num = sum(xy)\n",
    "#print(s)\n",
    "\n",
    "\n",
    "g=sum([i**2 for i in x ])\n",
    "h=sum([i**2 for i in y ])\n",
    "# print(g)\n",
    "# print(h)\n",
    "\n",
    "den = math.sqrt(h*g)\n",
    "\n",
    "r=num/den\n",
    "print(r)\n",
    "print(round(r,3))"
   ]
  },
  {
   "cell_type": "markdown",
   "metadata": {},
   "source": [
    "- Ohk!! This will do."
   ]
  },
  {
   "cell_type": "code",
   "execution_count": null,
   "metadata": {},
   "outputs": [],
   "source": []
  }
 ],
 "metadata": {
  "kernelspec": {
   "display_name": "Python 3",
   "language": "python",
   "name": "python3"
  },
  "language_info": {
   "codemirror_mode": {
    "name": "ipython",
    "version": 3
   },
   "file_extension": ".py",
   "mimetype": "text/x-python",
   "name": "python",
   "nbconvert_exporter": "python",
   "pygments_lexer": "ipython3",
   "version": "3.7.3"
  }
 },
 "nbformat": 4,
 "nbformat_minor": 2
}
